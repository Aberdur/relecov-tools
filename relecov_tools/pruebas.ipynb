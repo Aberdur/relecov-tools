{
 "cells": [
  {
   "cell_type": "code",
   "execution_count": 144,
   "id": "a99df8ae",
   "metadata": {},
   "outputs": [],
   "source": [
    "import json\n",
    "import openpyxl"
   ]
  },
  {
   "cell_type": "code",
   "execution_count": 220,
   "id": "dd64f661",
   "metadata": {},
   "outputs": [],
   "source": [
    "f = open(\"schema/small_schema.json\")\n",
    "json_phage_plus_schema = json.load(f)"
   ]
  },
  {
   "cell_type": "code",
   "execution_count": 221,
   "id": "9057ba90",
   "metadata": {},
   "outputs": [],
   "source": [
    "json_phage_plus_schema;"
   ]
  },
  {
   "cell_type": "code",
   "execution_count": 222,
   "id": "97b35c6a",
   "metadata": {},
   "outputs": [],
   "source": [
    " wb_file = openpyxl.load_workbook(\"example_data/dummy_data_small.xlsx\", data_only=True)\n",
    "ws_metadata_lab = wb_file[\"METADATA_LAB\"]\n",
    "heading = []\n",
    "for cell in ws_metadata_lab[1]:\n",
    "    heading.append(cell.value)\n"
   ]
  },
  {
   "cell_type": "code",
   "execution_count": 223,
   "id": "986c372a",
   "metadata": {},
   "outputs": [],
   "source": [
    "heading;"
   ]
  },
  {
   "cell_type": "code",
   "execution_count": 224,
   "id": "895b82c2",
   "metadata": {},
   "outputs": [],
   "source": [
    "for row in islice(ws_metadata_lab.values, 1, ws_metadata_lab.max_row):\n",
    "        sample_data_row = {}\n",
    "        for idx in range(len(heading)):\n",
    "            if \"date\" in heading[idx]:\n",
    "                sample_data_row[heading[idx]] = row[idx].strftime(\"%d/%m/%Y\")\n",
    "            else:\n",
    "                sample_data_row[heading[idx]] = row[idx]\n",
    "                \n",
    "fila = sample_data_row"
   ]
  },
  {
   "cell_type": "code",
   "execution_count": 225,
   "id": "c441ba9d",
   "metadata": {},
   "outputs": [],
   "source": [
    "list(fila.keys());"
   ]
  },
  {
   "cell_type": "code",
   "execution_count": 226,
   "id": "a2f1610b",
   "metadata": {},
   "outputs": [],
   "source": [
    "json_phage_plus_schema['properties'];"
   ]
  },
  {
   "cell_type": "code",
   "execution_count": 227,
   "id": "2b3da23d",
   "metadata": {},
   "outputs": [],
   "source": [
    "instance = [{}, 3, \"foo\"]"
   ]
  },
  {
   "cell_type": "code",
   "execution_count": 228,
   "id": "2b30fc71",
   "metadata": {},
   "outputs": [],
   "source": [
    "validate(instance = list(fila.keys()), schema =json_phage_plus_schema['properties']) "
   ]
  },
  {
   "cell_type": "code",
   "execution_count": 229,
   "id": "cc3c4bac",
   "metadata": {},
   "outputs": [
    {
     "data": {
      "text/plain": [
       "'prov_rona_99'"
      ]
     },
     "execution_count": 229,
     "metadata": {},
     "output_type": "execute_result"
    }
   ],
   "source": [
    "sample_data_row[\"Collecting Sample id\"]"
   ]
  },
  {
   "cell_type": "code",
   "execution_count": null,
   "id": "72587d32",
   "metadata": {},
   "outputs": [],
   "source": []
  }
 ],
 "metadata": {
  "kernelspec": {
   "display_name": "Python 3 (ipykernel)",
   "language": "python",
   "name": "python3"
  },
  "language_info": {
   "codemirror_mode": {
    "name": "ipython",
    "version": 3
   },
   "file_extension": ".py",
   "mimetype": "text/x-python",
   "name": "python",
   "nbconvert_exporter": "python",
   "pygments_lexer": "ipython3",
   "version": "3.9.5"
  }
 },
 "nbformat": 4,
 "nbformat_minor": 5
}
