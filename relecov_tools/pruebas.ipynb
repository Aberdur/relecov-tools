{
 "cells": [
  {
   "cell_type": "code",
   "execution_count": 3,
   "id": "a99df8ae",
   "metadata": {},
   "outputs": [],
   "source": [
    "import json\n",
    "import openpyxl"
   ]
  },
  {
   "cell_type": "code",
   "execution_count": 220,
   "id": "dd64f661",
   "metadata": {},
   "outputs": [],
   "source": [
    "f = open(\"schema/small_schema.json\")\n",
    "json_phage_plus_schema = json.load(f)"
   ]
  },
  {
   "cell_type": "code",
   "execution_count": 221,
   "id": "9057ba90",
   "metadata": {},
   "outputs": [],
   "source": [
    "json_phage_plus_schema;"
   ]
  },
  {
   "cell_type": "code",
   "execution_count": 222,
   "id": "97b35c6a",
   "metadata": {},
   "outputs": [],
   "source": [
    " wb_file = openpyxl.load_workbook(\"example_data/dummy_data_small.xlsx\", data_only=True)\n",
    "ws_metadata_lab = wb_file[\"METADATA_LAB\"]\n",
    "heading = []\n",
    "for cell in ws_metadata_lab[1]:\n",
    "    heading.append(cell.value)\n"
   ]
  },
  {
   "cell_type": "code",
   "execution_count": 223,
   "id": "986c372a",
   "metadata": {},
   "outputs": [],
   "source": [
    "heading;"
   ]
  },
  {
   "cell_type": "code",
   "execution_count": 224,
   "id": "895b82c2",
   "metadata": {},
   "outputs": [],
   "source": [
    "for row in islice(ws_metadata_lab.values, 1, ws_metadata_lab.max_row):\n",
    "        sample_data_row = {}\n",
    "        for idx in range(len(heading)):\n",
    "            if \"date\" in heading[idx]:\n",
    "                sample_data_row[heading[idx]] = row[idx].strftime(\"%d/%m/%Y\")\n",
    "            else:\n",
    "                sample_data_row[heading[idx]] = row[idx]\n",
    "                \n",
    "fila = sample_data_row"
   ]
  },
  {
   "cell_type": "code",
   "execution_count": 225,
   "id": "c441ba9d",
   "metadata": {},
   "outputs": [],
   "source": [
    "list(fila.keys());"
   ]
  },
  {
   "cell_type": "code",
   "execution_count": 226,
   "id": "a2f1610b",
   "metadata": {},
   "outputs": [],
   "source": [
    "json_phage_plus_schema['properties'];"
   ]
  },
  {
   "cell_type": "code",
   "execution_count": 227,
   "id": "2b3da23d",
   "metadata": {},
   "outputs": [],
   "source": [
    "instance = [{}, 3, \"foo\"]"
   ]
  },
  {
   "cell_type": "code",
   "execution_count": 228,
   "id": "2b30fc71",
   "metadata": {},
   "outputs": [],
   "source": [
    "validate(instance = list(fila.keys()), schema =json_phage_plus_schema['properties']) "
   ]
  },
  {
   "cell_type": "code",
   "execution_count": 229,
   "id": "cc3c4bac",
   "metadata": {},
   "outputs": [
    {
     "data": {
      "text/plain": [
       "'prov_rona_99'"
      ]
     },
     "execution_count": 229,
     "metadata": {},
     "output_type": "execute_result"
    }
   ],
   "source": [
    "sample_data_row[\"Collecting Sample id\"]"
   ]
  },
  {
   "cell_type": "code",
   "execution_count": 63,
   "id": "72587d32",
   "metadata": {},
   "outputs": [],
   "source": [
    "heading =['Collecting Sample id', 'Originating Laboratory', 'Submitting Institution', 'Sample Collection Date', 'geo_loc_country', 'geo_loc_state', 'organism', 'isolate', 'host_scientific_name', 'Host Common Name', 'host_disease', 'Sequencing Instrument Model', 'Sequencing Platforms', 'consensus_sequence_software_name', 'consensus_sequence_software_version', 'file_name', 'tax_id', 'sample_description', 'Library Source', 'Library Selection', 'Library Strategy', 'Library Layout', 'type', 'GISAID Virus Name', 'GISAID Id', 'Originating Laboratory Address']\n"
   ]
  },
  {
   "cell_type": "code",
   "execution_count": 71,
   "id": "7ea69469",
   "metadata": {},
   "outputs": [
    {
     "data": {
      "text/plain": [
       "26"
      ]
     },
     "execution_count": 71,
     "metadata": {},
     "output_type": "execute_result"
    }
   ],
   "source": [
    "len(heading)"
   ]
  },
  {
   "cell_type": "code",
   "execution_count": 64,
   "id": "54afd367",
   "metadata": {},
   "outputs": [],
   "source": [
    "map_file = open(\"schema/mapping_file.json\")\n",
    "mapping_file = json.load(map_file)"
   ]
  },
  {
   "cell_type": "code",
   "execution_count": 65,
   "id": "3d1e0f63",
   "metadata": {},
   "outputs": [
    {
     "data": {
      "text/plain": [
       "{'Collecting Sample id': 'sample_name',\n",
       " 'Originating Laboratory': 'collecting_institution',\n",
       " 'Submitting Institution': 'submitting_institution',\n",
       " 'Sample Collection Date': 'sample_collection_date',\n",
       " 'geo_loc_country': 'geo_loc_country',\n",
       " 'geo_loc_state': 'geo_loc_state',\n",
       " 'organism': 'organism',\n",
       " 'isolate': 'isolate',\n",
       " 'host_scientific_name': 'host_scientific_name',\n",
       " 'Host Common Name': 'host_common_name',\n",
       " 'host_disease': 'host_disease',\n",
       " 'Sequencing Instrument Model': 'sequencing_instrument_model',\n",
       " 'Sequencing Platforms': 'sequencing_instrument_platform',\n",
       " 'consensus_sequence_software_name': 'consensus_sequence_software_name',\n",
       " 'consensus_sequence_software_version': 'consensus_sequence_software_version',\n",
       " 'file_name': 'file_name',\n",
       " 'tax_id': 'tax_id',\n",
       " 'sample_description': 'sample_description',\n",
       " 'Library Source': 'library_source',\n",
       " 'Library Selection': 'library_selection',\n",
       " 'Library Strategy': 'library_strategy',\n",
       " 'Library Layout': 'library_layout',\n",
       " 'type': 'type',\n",
       " 'GISAID Virus Name': 'virus_name',\n",
       " 'GISAID Id': 'submitter',\n",
       " 'Originating Laboratory Address': 'collecting_address'}"
      ]
     },
     "execution_count": 65,
     "metadata": {},
     "output_type": "execute_result"
    }
   ],
   "source": [
    "mapping_file"
   ]
  },
  {
   "cell_type": "code",
   "execution_count": 54,
   "id": "def77932",
   "metadata": {},
   "outputs": [
    {
     "data": {
      "text/plain": [
       "'sample_name'"
      ]
     },
     "execution_count": 54,
     "metadata": {},
     "output_type": "execute_result"
    }
   ],
   "source": [
    "list(mapping_file.values())[0]"
   ]
  },
  {
   "cell_type": "code",
   "execution_count": 70,
   "id": "34b84069",
   "metadata": {},
   "outputs": [
    {
     "name": "stdout",
     "output_type": "stream",
     "text": [
      "0\n",
      "1\n",
      "2\n",
      "3\n",
      "4\n",
      "5\n",
      "6\n",
      "7\n",
      "8\n",
      "9\n",
      "10\n",
      "11\n",
      "12\n",
      "13\n",
      "14\n",
      "15\n",
      "16\n",
      "17\n",
      "18\n",
      "19\n",
      "20\n",
      "21\n",
      "22\n",
      "23\n",
      "24\n",
      "25\n"
     ]
    }
   ],
   "source": [
    "for i in range(len(heading)):\n",
    "    print(i)"
   ]
  },
  {
   "cell_type": "code",
   "execution_count": 72,
   "id": "1caa1045",
   "metadata": {},
   "outputs": [],
   "source": [
    "for i in range(len(heading)):\n",
    "    if heading[i] in list(mapping_file.keys()):\n",
    "        index = list(mapping_file).index(heading[i])\n",
    "        heading[index] = list(mapping_file.values())[index]\n",
    "   \n",
    "        \n"
   ]
  },
  {
   "cell_type": "code",
   "execution_count": 73,
   "id": "8ab4a0c2",
   "metadata": {},
   "outputs": [
    {
     "data": {
      "text/plain": [
       "['sample_name',\n",
       " 'collecting_institution',\n",
       " 'submitting_institution',\n",
       " 'sample_collection_date',\n",
       " 'geo_loc_country',\n",
       " 'geo_loc_state',\n",
       " 'organism',\n",
       " 'isolate',\n",
       " 'host_scientific_name',\n",
       " 'host_common_name',\n",
       " 'host_disease',\n",
       " 'sequencing_instrument_model',\n",
       " 'sequencing_instrument_platform',\n",
       " 'consensus_sequence_software_name',\n",
       " 'consensus_sequence_software_version',\n",
       " 'file_name',\n",
       " 'tax_id',\n",
       " 'sample_description',\n",
       " 'library_source',\n",
       " 'library_selection',\n",
       " 'library_strategy',\n",
       " 'library_layout',\n",
       " 'type',\n",
       " 'virus_name',\n",
       " 'submitter',\n",
       " 'collecting_address']"
      ]
     },
     "execution_count": 73,
     "metadata": {},
     "output_type": "execute_result"
    }
   ],
   "source": [
    "heading"
   ]
  },
  {
   "cell_type": "code",
   "execution_count": null,
   "id": "4689d46e",
   "metadata": {},
   "outputs": [],
   "source": [
    "dictionary = {'test':{1,3}, 'test2':{2}, 'test3':{2,3}}\n",
    "\n",
    "if 'test' in dictionary:\n",
    "   print(list(dictionary).index('test'))"
   ]
  },
  {
   "cell_type": "code",
   "execution_count": 27,
   "id": "5ae4de88",
   "metadata": {},
   "outputs": [
    {
     "data": {
      "text/plain": [
       "['Collecting Sample id',\n",
       " 'Originating Laboratory',\n",
       " 'Submitting Institution',\n",
       " 'Sample Collection Date',\n",
       " 'geo_loc_country',\n",
       " 'geo_loc_state',\n",
       " 'organism',\n",
       " 'isolate',\n",
       " 'host_scientific_name',\n",
       " 'Host Common Name',\n",
       " 'host_disease',\n",
       " 'Sequencing Instrument Model',\n",
       " 'Sequencing Platforms',\n",
       " 'consensus_sequence_software_name',\n",
       " 'consensus_sequence_software_version',\n",
       " 'file_name',\n",
       " 'tax_id',\n",
       " 'sample_description',\n",
       " 'Library Source',\n",
       " 'Library Selection',\n",
       " 'Library Strategy',\n",
       " 'Library Layout',\n",
       " 'type',\n",
       " 'GISAID Virus Name',\n",
       " 'GISAID Id',\n",
       " 'Originating Laboratory Address']"
      ]
     },
     "execution_count": 27,
     "metadata": {},
     "output_type": "execute_result"
    }
   ],
   "source": [
    "heading"
   ]
  },
  {
   "cell_type": "code",
   "execution_count": null,
   "id": "b212e5ee",
   "metadata": {},
   "outputs": [],
   "source": [
    "    'sample_name',\n",
    "    'collecting_institution',\n",
    "    'submitting_institution',\n",
    "'sample_collection_date',\n",
    "    'geo_loc_country',\n",
    "    'geo_loc_state',\n",
    "    'organism',\n",
    "    'isolate',\n",
    "    'host_scientific_name',\n",
    "    'host_common_name',\n",
    "    'host_disease',\n",
    "    'sequencing_instrument_model',\n",
    "    'sequencing_instrument_platform',\n",
    "    'consensus_sequence_software_name',\n",
    "    'consensus_sequence_software_version',\n",
    "    'file_name',\n",
    "    'tax_id',\n",
    "    'sample_description',\n",
    "    'library_source',\n",
    "    'library_selection',\n",
    "    'library_strategy',\n",
    "    'library_layout',\n",
    "    'type',\n",
    "    'virus_name',\n",
    "    'submitter',\n",
    "    'collecting_institution_address'],\n"
   ]
  },
  {
   "cell_type": "code",
   "execution_count": null,
   "id": "3124de94",
   "metadata": {},
   "outputs": [],
   "source": [
    "collecting_institution': 'Hospital Universitario de Basurto',\n",
    "'collecting_institution_address': 'Avda. Montevideo, 18,Bilbao,Vizcaya, ',\n",
    "'consensus_sequence_software_name': 'CLC Genomics Workbench 12',\n",
    "'consensus_sequence_software_version': '. CLC Genomics Workbench 12,',\n",
    "'file_name': 'filename2',\n",
    "'geo_loc_country': 'Spain',\n",
    "'geo_loc_state': 'Madrid',\n",
    "'host_common_name': 'Human',\n",
    "'host_disease': 'SARS-CoV2',\n",
    "'host_scientific_name': 'Homo sapiens',\n",
    "'isolate': 'SARS-CoV-2/human/USA/CA-CDPH-001/2020',\n",
    "'library_layout': 'PAIRED',\n",
    "'library_selection': 'RANDOM PCR',\n",
    "'library_source': 'METAGENOMIC',\n",
    "'library_strategy': 'WGS',\n",
    "'organism': 'Severe acute respiratory syndrome coronavirus 2',\n",
    "'sample_description': 'madnatory ENA description sample',\n",
    "'sample_name': 'ID_001',\n",
    "'sequencing_instrument_model': 'Illumina MiSeq',\n",
    "'sequencing_instrument_platform': 'ILLUMINA',\n",
    "'submitter': 'GISAID-Username',\n",
    "'submitting_institution': 'Laboratorio de Microbiología de Bibao ',\n",
    "'tax_id': 2697049,\n",
    "'type': 'betacoronavirus',\n",
    "'virus_name': 'hCoV-19/España/Vizcaya-01/2020'}\n",
    "\n"
   ]
  }
 ],
 "metadata": {
  "kernelspec": {
   "display_name": "Python 3 (ipykernel)",
   "language": "python",
   "name": "python3"
  },
  "language_info": {
   "codemirror_mode": {
    "name": "ipython",
    "version": 3
   },
   "file_extension": ".py",
   "mimetype": "text/x-python",
   "name": "python",
   "nbconvert_exporter": "python",
   "pygments_lexer": "ipython3",
   "version": "3.9.5"
  }
 },
 "nbformat": 4,
 "nbformat_minor": 5
}
