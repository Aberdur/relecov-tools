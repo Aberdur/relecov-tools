{
 "cells": [
  {
   "cell_type": "code",
   "execution_count": 1,
   "id": "ca2ef1c4",
   "metadata": {},
   "outputs": [],
   "source": [
    "esquema_json = {'collection_date': '2021/04/13', 'common_name': 'PEPITO', 'experiment_alias': '', 'experiment_title': 'Example project for ENA submission RELECOV', 'fastq_r1_md5': 'f2facbd1d6c7e0972074ced31ccbfd8e', 'fastq_r2_md5': 'fd9948be8da7a38b0f80659dfc21aeea', 'geographic location (latitude)': '41.6483', 'geographic location (longitude)': '-0.8830', 'geographic_location_(country_and/or_sea)': 'Spain', 'host_common_name': 'Human', 'host_gender': 'Mujer', 'host_scientific_name': 'Homo Sapiens', 'instrument_model': 'Illumina MiSeq', 'instrument_platform': 'Illumina', 'isolate': '1197860', 'isolation source host-associated': 'Nasopharynx aspirate', 'isolation source non-host-associated': 'Other', 'library_layout': 'Single End', 'library_selection': 'RT-PCR', 'library_source': 'RNA', 'library_strategy': 'WGS strategy', 'purpose_sampling': 'Surveillance', 'r1_fastq_filepath': '/tmp/relecov/COD_test_01/20220408', 'r2_fastq_filepath': '/tmp/relecov/COD_test_01/20220408', 'receipt_date': '2021/05/13', 'run_alias': '', 'sample_description': 'Sample for surveillance', 'sample_name': '1197860', 'sample_storage_conditions': ' -80ºC', 'scientific_name': 'Severe acute respiratory syndrome coronavirus 2', 'sequence_file_R1_fastq': 'ABC123_S1_L001_R1_001.fastq.gz', 'sequence_file_R2_fastq': 'ABC123_S1_L001_R2_001.fastq.gz', 'study_alias': 'RELECOV', 'study_title': 'RELECOV Spanish Network for genomics surveillance', 'study_type': 'RELECOV Spanish Network for genomics surveillance', 'tax_id': '2697049'}\n"
   ]
  },
  {
   "cell_type": "code",
   "execution_count": 2,
   "id": "226a90e0",
   "metadata": {},
   "outputs": [
    {
     "data": {
      "text/plain": [
       "{'collection_date': '2021/04/13',\n",
       " 'common_name': 'PEPITO',\n",
       " 'experiment_alias': '',\n",
       " 'experiment_title': 'Example project for ENA submission RELECOV',\n",
       " 'fastq_r1_md5': 'f2facbd1d6c7e0972074ced31ccbfd8e',\n",
       " 'fastq_r2_md5': 'fd9948be8da7a38b0f80659dfc21aeea',\n",
       " 'geographic location (latitude)': '41.6483',\n",
       " 'geographic location (longitude)': '-0.8830',\n",
       " 'geographic_location_(country_and/or_sea)': 'Spain',\n",
       " 'host_common_name': 'Human',\n",
       " 'host_gender': 'Mujer',\n",
       " 'host_scientific_name': 'Homo Sapiens',\n",
       " 'instrument_model': 'Illumina MiSeq',\n",
       " 'instrument_platform': 'Illumina',\n",
       " 'isolate': '1197860',\n",
       " 'isolation source host-associated': 'Nasopharynx aspirate',\n",
       " 'isolation source non-host-associated': 'Other',\n",
       " 'library_layout': 'Single End',\n",
       " 'library_selection': 'RT-PCR',\n",
       " 'library_source': 'RNA',\n",
       " 'library_strategy': 'WGS strategy',\n",
       " 'purpose_sampling': 'Surveillance',\n",
       " 'r1_fastq_filepath': '/tmp/relecov/COD_test_01/20220408',\n",
       " 'r2_fastq_filepath': '/tmp/relecov/COD_test_01/20220408',\n",
       " 'receipt_date': '2021/05/13',\n",
       " 'run_alias': '',\n",
       " 'sample_description': 'Sample for surveillance',\n",
       " 'sample_name': '1197860',\n",
       " 'sample_storage_conditions': ' -80ºC',\n",
       " 'scientific_name': 'Severe acute respiratory syndrome coronavirus 2',\n",
       " 'sequence_file_R1_fastq': 'ABC123_S1_L001_R1_001.fastq.gz',\n",
       " 'sequence_file_R2_fastq': 'ABC123_S1_L001_R2_001.fastq.gz',\n",
       " 'study_alias': 'RELECOV',\n",
       " 'study_title': 'RELECOV Spanish Network for genomics surveillance',\n",
       " 'study_type': 'RELECOV Spanish Network for genomics surveillance',\n",
       " 'tax_id': '2697049'}"
      ]
     },
     "execution_count": 2,
     "metadata": {},
     "output_type": "execute_result"
    }
   ],
   "source": [
    "esquema_json"
   ]
  },
  {
   "cell_type": "code",
   "execution_count": 3,
   "id": "be0cb85c",
   "metadata": {},
   "outputs": [
    {
     "data": {
      "text/plain": [
       "dict_keys(['collection_date', 'common_name', 'experiment_alias', 'experiment_title', 'fastq_r1_md5', 'fastq_r2_md5', 'geographic location (latitude)', 'geographic location (longitude)', 'geographic_location_(country_and/or_sea)', 'host_common_name', 'host_gender', 'host_scientific_name', 'instrument_model', 'instrument_platform', 'isolate', 'isolation source host-associated', 'isolation source non-host-associated', 'library_layout', 'library_selection', 'library_source', 'library_strategy', 'purpose_sampling', 'r1_fastq_filepath', 'r2_fastq_filepath', 'receipt_date', 'run_alias', 'sample_description', 'sample_name', 'sample_storage_conditions', 'scientific_name', 'sequence_file_R1_fastq', 'sequence_file_R2_fastq', 'study_alias', 'study_title', 'study_type', 'tax_id'])"
      ]
     },
     "execution_count": 3,
     "metadata": {},
     "output_type": "execute_result"
    }
   ],
   "source": [
    "esquema_json.keys()"
   ]
  },
  {
   "cell_type": "code",
   "execution_count": 4,
   "id": "8d390edf",
   "metadata": {},
   "outputs": [],
   "source": [
    "llaves = list(esquema_json.keys())"
   ]
  },
  {
   "cell_type": "code",
   "execution_count": 5,
   "id": "ec640155",
   "metadata": {},
   "outputs": [
    {
     "data": {
      "text/plain": [
       "['collection_date',\n",
       " 'common_name',\n",
       " 'experiment_alias',\n",
       " 'experiment_title',\n",
       " 'fastq_r1_md5',\n",
       " 'fastq_r2_md5',\n",
       " 'geographic location (latitude)',\n",
       " 'geographic location (longitude)',\n",
       " 'geographic_location_(country_and/or_sea)',\n",
       " 'host_common_name',\n",
       " 'host_gender',\n",
       " 'host_scientific_name',\n",
       " 'instrument_model',\n",
       " 'instrument_platform',\n",
       " 'isolate',\n",
       " 'isolation source host-associated',\n",
       " 'isolation source non-host-associated',\n",
       " 'library_layout',\n",
       " 'library_selection',\n",
       " 'library_source',\n",
       " 'library_strategy',\n",
       " 'purpose_sampling',\n",
       " 'r1_fastq_filepath',\n",
       " 'r2_fastq_filepath',\n",
       " 'receipt_date',\n",
       " 'run_alias',\n",
       " 'sample_description',\n",
       " 'sample_name',\n",
       " 'sample_storage_conditions',\n",
       " 'scientific_name',\n",
       " 'sequence_file_R1_fastq',\n",
       " 'sequence_file_R2_fastq',\n",
       " 'study_alias',\n",
       " 'study_title',\n",
       " 'study_type',\n",
       " 'tax_id']"
      ]
     },
     "execution_count": 5,
     "metadata": {},
     "output_type": "execute_result"
    }
   ],
   "source": [
    "llaves"
   ]
  },
  {
   "cell_type": "code",
   "execution_count": 15,
   "id": "85d6577f",
   "metadata": {},
   "outputs": [
    {
     "name": "stdout",
     "output_type": "stream",
     "text": [
      "collection_date\n",
      "common_name\n",
      "experiment_alias\n",
      "experiment_title\n",
      "fastq_r1_md5\n",
      "fastq_r2_md5\n",
      "geographic location (latitude)\n",
      "geographic location (longitude)\n",
      "geographic_location_(country_and/or_sea)\n",
      "host_common_name\n",
      "host_gender\n",
      "host_scientific_name\n",
      "instrument_model\n",
      "instrument_platform\n",
      "isolate\n",
      "isolation source host-associated\n",
      "isolation source non-host-associated\n",
      "library_layout\n",
      "library_selection\n",
      "library_source\n",
      "library_strategy\n",
      "purpose_sampling\n",
      "r1_fastq_filepath\n",
      "r2_fastq_filepath\n",
      "receipt_date\n",
      "run_alias\n",
      "sample_description\n",
      "sample_name\n",
      "sample_storage_conditions\n",
      "scientific_name\n",
      "sequence_file_R1_fastq\n",
      "sequence_file_R2_fastq\n",
      "study_alias\n",
      "study_title\n",
      "study_type\n",
      "tax_id\n"
     ]
    }
   ],
   "source": [
    "for key, value in esquema_json.items():\n",
    "    print (key)"
   ]
  },
  {
   "cell_type": "code",
   "execution_count": 11,
   "id": "961f966c",
   "metadata": {},
   "outputs": [],
   "source": [
    "import pandas as pd"
   ]
  },
  {
   "cell_type": "code",
   "execution_count": 18,
   "id": "04bb5f74",
   "metadata": {},
   "outputs": [
    {
     "data": {
      "text/plain": [
       "['collection_date',\n",
       " 'common_name',\n",
       " 'experiment_alias',\n",
       " 'experiment_title',\n",
       " 'fastq_r1_md5',\n",
       " 'fastq_r2_md5',\n",
       " 'geographic location (latitude)',\n",
       " 'geographic location (longitude)',\n",
       " 'geographic_location_(country_and/or_sea)',\n",
       " 'host_common_name',\n",
       " 'host_gender',\n",
       " 'host_scientific_name',\n",
       " 'instrument_model',\n",
       " 'instrument_platform',\n",
       " 'isolate',\n",
       " 'isolation source host-associated',\n",
       " 'isolation source non-host-associated',\n",
       " 'library_layout',\n",
       " 'library_selection',\n",
       " 'library_source',\n",
       " 'library_strategy',\n",
       " 'purpose_sampling',\n",
       " 'r1_fastq_filepath',\n",
       " 'r2_fastq_filepath',\n",
       " 'receipt_date',\n",
       " 'run_alias',\n",
       " 'sample_description',\n",
       " 'sample_name',\n",
       " 'sample_storage_conditions',\n",
       " 'scientific_name',\n",
       " 'sequence_file_R1_fastq',\n",
       " 'sequence_file_R2_fastq',\n",
       " 'study_alias',\n",
       " 'study_title',\n",
       " 'study_type',\n",
       " 'tax_id']"
      ]
     },
     "execution_count": 18,
     "metadata": {},
     "output_type": "execute_result"
    }
   ],
   "source": [
    "columnas = list(esquema_json.keys())\n"
   ]
  },
  {
   "cell_type": "code",
   "execution_count": 23,
   "id": "036986a0",
   "metadata": {},
   "outputs": [],
   "source": [
    "df = pd.DataFrame.from_dict(esquema_json, orient=\"index\")"
   ]
  },
  {
   "cell_type": "code",
   "execution_count": 25,
   "id": "a6b4f961",
   "metadata": {},
   "outputs": [
    {
     "data": {
      "text/html": [
       "<div>\n",
       "<style scoped>\n",
       "    .dataframe tbody tr th:only-of-type {\n",
       "        vertical-align: middle;\n",
       "    }\n",
       "\n",
       "    .dataframe tbody tr th {\n",
       "        vertical-align: top;\n",
       "    }\n",
       "\n",
       "    .dataframe thead th {\n",
       "        text-align: right;\n",
       "    }\n",
       "</style>\n",
       "<table border=\"1\" class=\"dataframe\">\n",
       "  <thead>\n",
       "    <tr style=\"text-align: right;\">\n",
       "      <th></th>\n",
       "      <th>collection_date</th>\n",
       "      <th>common_name</th>\n",
       "      <th>experiment_alias</th>\n",
       "      <th>experiment_title</th>\n",
       "      <th>fastq_r1_md5</th>\n",
       "      <th>fastq_r2_md5</th>\n",
       "      <th>geographic location (latitude)</th>\n",
       "      <th>geographic location (longitude)</th>\n",
       "      <th>geographic_location_(country_and/or_sea)</th>\n",
       "      <th>host_common_name</th>\n",
       "      <th>...</th>\n",
       "      <th>sample_description</th>\n",
       "      <th>sample_name</th>\n",
       "      <th>sample_storage_conditions</th>\n",
       "      <th>scientific_name</th>\n",
       "      <th>sequence_file_R1_fastq</th>\n",
       "      <th>sequence_file_R2_fastq</th>\n",
       "      <th>study_alias</th>\n",
       "      <th>study_title</th>\n",
       "      <th>study_type</th>\n",
       "      <th>tax_id</th>\n",
       "    </tr>\n",
       "  </thead>\n",
       "  <tbody>\n",
       "    <tr>\n",
       "      <th>0</th>\n",
       "      <td>2021/04/13</td>\n",
       "      <td>PEPITO</td>\n",
       "      <td></td>\n",
       "      <td>Example project for ENA submission RELECOV</td>\n",
       "      <td>f2facbd1d6c7e0972074ced31ccbfd8e</td>\n",
       "      <td>fd9948be8da7a38b0f80659dfc21aeea</td>\n",
       "      <td>41.6483</td>\n",
       "      <td>-0.8830</td>\n",
       "      <td>Spain</td>\n",
       "      <td>Human</td>\n",
       "      <td>...</td>\n",
       "      <td>Sample for surveillance</td>\n",
       "      <td>1197860</td>\n",
       "      <td>-80ºC</td>\n",
       "      <td>Severe acute respiratory syndrome coronavirus 2</td>\n",
       "      <td>ABC123_S1_L001_R1_001.fastq.gz</td>\n",
       "      <td>ABC123_S1_L001_R2_001.fastq.gz</td>\n",
       "      <td>RELECOV</td>\n",
       "      <td>RELECOV Spanish Network for genomics surveillance</td>\n",
       "      <td>RELECOV Spanish Network for genomics surveillance</td>\n",
       "      <td>2697049</td>\n",
       "    </tr>\n",
       "  </tbody>\n",
       "</table>\n",
       "<p>1 rows × 36 columns</p>\n",
       "</div>"
      ],
      "text/plain": [
       "  collection_date common_name experiment_alias  \\\n",
       "0      2021/04/13      PEPITO                    \n",
       "\n",
       "                             experiment_title  \\\n",
       "0  Example project for ENA submission RELECOV   \n",
       "\n",
       "                       fastq_r1_md5                      fastq_r2_md5  \\\n",
       "0  f2facbd1d6c7e0972074ced31ccbfd8e  fd9948be8da7a38b0f80659dfc21aeea   \n",
       "\n",
       "  geographic location (latitude) geographic location (longitude)  \\\n",
       "0                        41.6483                         -0.8830   \n",
       "\n",
       "  geographic_location_(country_and/or_sea) host_common_name  ...  \\\n",
       "0                                    Spain            Human  ...   \n",
       "\n",
       "        sample_description sample_name sample_storage_conditions  \\\n",
       "0  Sample for surveillance     1197860                     -80ºC   \n",
       "\n",
       "                                   scientific_name  \\\n",
       "0  Severe acute respiratory syndrome coronavirus 2   \n",
       "\n",
       "           sequence_file_R1_fastq          sequence_file_R2_fastq study_alias  \\\n",
       "0  ABC123_S1_L001_R1_001.fastq.gz  ABC123_S1_L001_R2_001.fastq.gz     RELECOV   \n",
       "\n",
       "                                         study_title  \\\n",
       "0  RELECOV Spanish Network for genomics surveillance   \n",
       "\n",
       "                                          study_type   tax_id  \n",
       "0  RELECOV Spanish Network for genomics surveillance  2697049  \n",
       "\n",
       "[1 rows x 36 columns]"
      ]
     },
     "execution_count": 25,
     "metadata": {},
     "output_type": "execute_result"
    }
   ],
   "source": [
    "df1_transposed = df.T\n",
    "df1_transposed"
   ]
  },
  {
   "cell_type": "code",
   "execution_count": 26,
   "id": "0817f87d",
   "metadata": {},
   "outputs": [],
   "source": [
    "df_study = df1_transposed[[\"study_alias\",\"study_title\",\"study_type\"]]"
   ]
  },
  {
   "cell_type": "code",
   "execution_count": 27,
   "id": "c8783948",
   "metadata": {},
   "outputs": [
    {
     "data": {
      "text/html": [
       "<div>\n",
       "<style scoped>\n",
       "    .dataframe tbody tr th:only-of-type {\n",
       "        vertical-align: middle;\n",
       "    }\n",
       "\n",
       "    .dataframe tbody tr th {\n",
       "        vertical-align: top;\n",
       "    }\n",
       "\n",
       "    .dataframe thead th {\n",
       "        text-align: right;\n",
       "    }\n",
       "</style>\n",
       "<table border=\"1\" class=\"dataframe\">\n",
       "  <thead>\n",
       "    <tr style=\"text-align: right;\">\n",
       "      <th></th>\n",
       "      <th>study_alias</th>\n",
       "      <th>study_title</th>\n",
       "      <th>study_type</th>\n",
       "    </tr>\n",
       "  </thead>\n",
       "  <tbody>\n",
       "    <tr>\n",
       "      <th>0</th>\n",
       "      <td>RELECOV</td>\n",
       "      <td>RELECOV Spanish Network for genomics surveillance</td>\n",
       "      <td>RELECOV Spanish Network for genomics surveillance</td>\n",
       "    </tr>\n",
       "  </tbody>\n",
       "</table>\n",
       "</div>"
      ],
      "text/plain": [
       "  study_alias                                        study_title  \\\n",
       "0     RELECOV  RELECOV Spanish Network for genomics surveillance   \n",
       "\n",
       "                                          study_type  \n",
       "0  RELECOV Spanish Network for genomics surveillance  "
      ]
     },
     "execution_count": 27,
     "metadata": {},
     "output_type": "execute_result"
    }
   ],
   "source": [
    "df_study \n",
    "#falta study abstract y pubmed_id "
   ]
  },
  {
   "cell_type": "code",
   "execution_count": 28,
   "id": "1a2f62ab",
   "metadata": {},
   "outputs": [],
   "source": [
    "df_samples = df1_transposed[['sample_name','tax_id','sample_description','collection_date','geographic_location_(country_and/or_sea)','host_common_name','host_gender','host_scientific_name','isolate' ]]"
   ]
  },
  {
   "cell_type": "code",
   "execution_count": 29,
   "id": "254eb9bc",
   "metadata": {},
   "outputs": [
    {
     "data": {
      "text/html": [
       "<div>\n",
       "<style scoped>\n",
       "    .dataframe tbody tr th:only-of-type {\n",
       "        vertical-align: middle;\n",
       "    }\n",
       "\n",
       "    .dataframe tbody tr th {\n",
       "        vertical-align: top;\n",
       "    }\n",
       "\n",
       "    .dataframe thead th {\n",
       "        text-align: right;\n",
       "    }\n",
       "</style>\n",
       "<table border=\"1\" class=\"dataframe\">\n",
       "  <thead>\n",
       "    <tr style=\"text-align: right;\">\n",
       "      <th></th>\n",
       "      <th>sample_name</th>\n",
       "      <th>tax_id</th>\n",
       "      <th>sample_description</th>\n",
       "      <th>collection_date</th>\n",
       "      <th>geographic_location_(country_and/or_sea)</th>\n",
       "      <th>host_common_name</th>\n",
       "      <th>host_gender</th>\n",
       "      <th>host_scientific_name</th>\n",
       "      <th>isolate</th>\n",
       "    </tr>\n",
       "  </thead>\n",
       "  <tbody>\n",
       "    <tr>\n",
       "      <th>0</th>\n",
       "      <td>1197860</td>\n",
       "      <td>2697049</td>\n",
       "      <td>Sample for surveillance</td>\n",
       "      <td>2021/04/13</td>\n",
       "      <td>Spain</td>\n",
       "      <td>Human</td>\n",
       "      <td>Mujer</td>\n",
       "      <td>Homo Sapiens</td>\n",
       "      <td>1197860</td>\n",
       "    </tr>\n",
       "  </tbody>\n",
       "</table>\n",
       "</div>"
      ],
      "text/plain": [
       "  sample_name   tax_id       sample_description collection_date  \\\n",
       "0     1197860  2697049  Sample for surveillance      2021/04/13   \n",
       "\n",
       "  geographic_location_(country_and/or_sea) host_common_name host_gender  \\\n",
       "0                                    Spain            Human       Mujer   \n",
       "\n",
       "  host_scientific_name  isolate  \n",
       "0         Homo Sapiens  1197860  "
      ]
     },
     "execution_count": 29,
     "metadata": {},
     "output_type": "execute_result"
    }
   ],
   "source": [
    "df_samples\n",
    "#FALTA:sample_title, host_subject_id, host_health_state, collector_name, collecting institutions\n"
   ]
  },
  {
   "cell_type": "code",
   "execution_count": 32,
   "id": "b699c031",
   "metadata": {},
   "outputs": [],
   "source": [
    "df_runs = df1_transposed[['experiment_alias','sequence_file_R1_fastq','sequence_file_R2_fastq']]\n",
    "#FALTA: run alias, file_type, flie_checksum"
   ]
  },
  {
   "cell_type": "code",
   "execution_count": 33,
   "id": "f44ab490",
   "metadata": {},
   "outputs": [
    {
     "data": {
      "text/html": [
       "<div>\n",
       "<style scoped>\n",
       "    .dataframe tbody tr th:only-of-type {\n",
       "        vertical-align: middle;\n",
       "    }\n",
       "\n",
       "    .dataframe tbody tr th {\n",
       "        vertical-align: top;\n",
       "    }\n",
       "\n",
       "    .dataframe thead th {\n",
       "        text-align: right;\n",
       "    }\n",
       "</style>\n",
       "<table border=\"1\" class=\"dataframe\">\n",
       "  <thead>\n",
       "    <tr style=\"text-align: right;\">\n",
       "      <th></th>\n",
       "      <th>experiment_alias</th>\n",
       "      <th>sequence_file_R1_fastq</th>\n",
       "      <th>sequence_file_R2_fastq</th>\n",
       "    </tr>\n",
       "  </thead>\n",
       "  <tbody>\n",
       "    <tr>\n",
       "      <th>0</th>\n",
       "      <td></td>\n",
       "      <td>ABC123_S1_L001_R1_001.fastq.gz</td>\n",
       "      <td>ABC123_S1_L001_R2_001.fastq.gz</td>\n",
       "    </tr>\n",
       "  </tbody>\n",
       "</table>\n",
       "</div>"
      ],
      "text/plain": [
       "  experiment_alias          sequence_file_R1_fastq  \\\n",
       "0                   ABC123_S1_L001_R1_001.fastq.gz   \n",
       "\n",
       "           sequence_file_R2_fastq  \n",
       "0  ABC123_S1_L001_R2_001.fastq.gz  "
      ]
     },
     "execution_count": 33,
     "metadata": {},
     "output_type": "execute_result"
    }
   ],
   "source": [
    "df_runs\n"
   ]
  },
  {
   "cell_type": "code",
   "execution_count": 35,
   "id": "4e3037fd",
   "metadata": {},
   "outputs": [],
   "source": [
    "df_runs = df1_transposed[['experiment_alias','study_title','sample_name','library_strategy', 'library_source','library_selection', 'library_layout', 'instrument_platform', 'instrument_model']]\n",
    "#FALTA: sample alias lo he llamado sample name\n",
    "#FALTA platform lo he llamado instrument_platform\n",
    "#FALTA: design_description, library_name, 'insert_size', library_construction_protocol ,'experiemnt_title'\n"
   ]
  },
  {
   "cell_type": "code",
   "execution_count": 36,
   "id": "18fe6ccc",
   "metadata": {},
   "outputs": [
    {
     "data": {
      "text/html": [
       "<div>\n",
       "<style scoped>\n",
       "    .dataframe tbody tr th:only-of-type {\n",
       "        vertical-align: middle;\n",
       "    }\n",
       "\n",
       "    .dataframe tbody tr th {\n",
       "        vertical-align: top;\n",
       "    }\n",
       "\n",
       "    .dataframe thead th {\n",
       "        text-align: right;\n",
       "    }\n",
       "</style>\n",
       "<table border=\"1\" class=\"dataframe\">\n",
       "  <thead>\n",
       "    <tr style=\"text-align: right;\">\n",
       "      <th></th>\n",
       "      <th>experiment_alias</th>\n",
       "      <th>study_title</th>\n",
       "      <th>sample_name</th>\n",
       "      <th>library_strategy</th>\n",
       "      <th>library_source</th>\n",
       "      <th>library_selection</th>\n",
       "      <th>library_layout</th>\n",
       "      <th>instrument_platform</th>\n",
       "      <th>instrument_model</th>\n",
       "    </tr>\n",
       "  </thead>\n",
       "  <tbody>\n",
       "    <tr>\n",
       "      <th>0</th>\n",
       "      <td></td>\n",
       "      <td>RELECOV Spanish Network for genomics surveillance</td>\n",
       "      <td>1197860</td>\n",
       "      <td>WGS strategy</td>\n",
       "      <td>RNA</td>\n",
       "      <td>RT-PCR</td>\n",
       "      <td>Single End</td>\n",
       "      <td>Illumina</td>\n",
       "      <td>Illumina MiSeq</td>\n",
       "    </tr>\n",
       "  </tbody>\n",
       "</table>\n",
       "</div>"
      ],
      "text/plain": [
       "  experiment_alias                                        study_title  \\\n",
       "0                   RELECOV Spanish Network for genomics surveillance   \n",
       "\n",
       "  sample_name library_strategy library_source library_selection  \\\n",
       "0     1197860     WGS strategy            RNA            RT-PCR   \n",
       "\n",
       "  library_layout instrument_platform instrument_model  \n",
       "0     Single End            Illumina   Illumina MiSeq  "
      ]
     },
     "execution_count": 36,
     "metadata": {},
     "output_type": "execute_result"
    }
   ],
   "source": [
    "df_runs"
   ]
  },
  {
   "cell_type": "code",
   "execution_count": null,
   "id": "a649c726",
   "metadata": {},
   "outputs": [],
   "source": []
  }
 ],
 "metadata": {
  "kernelspec": {
   "display_name": "Python 3 (ipykernel)",
   "language": "python",
   "name": "python3"
  },
  "language_info": {
   "codemirror_mode": {
    "name": "ipython",
    "version": 3
   },
   "file_extension": ".py",
   "mimetype": "text/x-python",
   "name": "python",
   "nbconvert_exporter": "python",
   "pygments_lexer": "ipython3",
   "version": "3.9.5"
  }
 },
 "nbformat": 4,
 "nbformat_minor": 5
}
