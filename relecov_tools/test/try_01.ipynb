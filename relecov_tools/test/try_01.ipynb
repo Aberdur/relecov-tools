{
 "cells": [
  {
   "cell_type": "code",
   "execution_count": 25,
   "id": "aef6b5c1",
   "metadata": {},
   "outputs": [],
   "source": [
    "#json to dataframe\n",
    "import pandas as pd\n",
    "\n",
    "df = pd.read_json('../example_data/ena_upload_study.json')"
   ]
  },
  {
   "cell_type": "code",
   "execution_count": 26,
   "id": "8cf882d3",
   "metadata": {},
   "outputs": [
    {
     "data": {
      "text/html": [
       "<div>\n",
       "<style scoped>\n",
       "    .dataframe tbody tr th:only-of-type {\n",
       "        vertical-align: middle;\n",
       "    }\n",
       "\n",
       "    .dataframe tbody tr th {\n",
       "        vertical-align: top;\n",
       "    }\n",
       "\n",
       "    .dataframe thead th {\n",
       "        text-align: right;\n",
       "    }\n",
       "</style>\n",
       "<table border=\"1\" class=\"dataframe\">\n",
       "  <thead>\n",
       "    <tr style=\"text-align: right;\">\n",
       "      <th></th>\n",
       "      <th>study</th>\n",
       "    </tr>\n",
       "  </thead>\n",
       "  <tbody>\n",
       "    <tr>\n",
       "      <th>alias</th>\n",
       "      <td>[study_alias_4, study_alias_5]</td>\n",
       "    </tr>\n",
       "  </tbody>\n",
       "</table>\n",
       "</div>"
      ],
      "text/plain": [
       "                                study\n",
       "alias  [study_alias_4, study_alias_5]"
      ]
     },
     "execution_count": 26,
     "metadata": {},
     "output_type": "execute_result"
    }
   ],
   "source": [
    "df"
   ]
  },
  {
   "cell_type": "code",
   "execution_count": 39,
   "id": "95cf4dd2",
   "metadata": {},
   "outputs": [
    {
     "data": {
      "text/plain": [
       "(2,)"
      ]
     },
     "execution_count": 39,
     "metadata": {},
     "output_type": "execute_result"
    }
   ],
   "source": [
    "lista = data[\"study\"][\"alias\"]\n",
    "import numpy as np\n",
    "a = np.array(lista)\n",
    "a.shape"
   ]
  },
  {
   "cell_type": "code",
   "execution_count": 40,
   "id": "f1a7dcf1",
   "metadata": {},
   "outputs": [
    {
     "data": {
      "text/plain": [
       "{'study': {'alias': ['study_alias_4', 'study_alias_5']}}"
      ]
     },
     "execution_count": 40,
     "metadata": {},
     "output_type": "execute_result"
    }
   ],
   "source": [
    "data"
   ]
  },
  {
   "cell_type": "code",
   "execution_count": 52,
   "id": "6f6c7f87",
   "metadata": {},
   "outputs": [],
   "source": [
    "import json\n",
    "# load data using Python JSON module\n",
    "with open('../example_data/ena_upload.json','r') as f:\n",
    "    data = json.loads(f.read())\n",
    "\n",
    "lista = data[\"study\"]\n",
    "df_study = pd.DataFrame(lista, columns=['alias',\"title\",\"study_type\",\"study_abstract\",\"pubmed_id\"])\n",
    "\n",
    "#study_df pd.DataFrame(columns=[\"alias\"], )\n"
   ]
  },
  {
   "cell_type": "code",
   "execution_count": 53,
   "id": "a8066308",
   "metadata": {},
   "outputs": [
    {
     "data": {
      "text/plain": [
       "{'alias': ['study_alias_4', 'study_alias_5'],\n",
       " 'title': ['study_title_1', 'study_title_2'],\n",
       " 'study_type': ['Transcriptome Analysis', 'RNASeq'],\n",
       " 'study_abstract': ['study_abstract_1', 'study_abstract_2'],\n",
       " 'pubmed_id': ['None', 'pubmed_id_2']}"
      ]
     },
     "execution_count": 53,
     "metadata": {},
     "output_type": "execute_result"
    }
   ],
   "source": [
    "lista"
   ]
  },
  {
   "cell_type": "code",
   "execution_count": 54,
   "id": "5dcb05c6",
   "metadata": {},
   "outputs": [
    {
     "data": {
      "text/html": [
       "<div>\n",
       "<style scoped>\n",
       "    .dataframe tbody tr th:only-of-type {\n",
       "        vertical-align: middle;\n",
       "    }\n",
       "\n",
       "    .dataframe tbody tr th {\n",
       "        vertical-align: top;\n",
       "    }\n",
       "\n",
       "    .dataframe thead th {\n",
       "        text-align: right;\n",
       "    }\n",
       "</style>\n",
       "<table border=\"1\" class=\"dataframe\">\n",
       "  <thead>\n",
       "    <tr style=\"text-align: right;\">\n",
       "      <th></th>\n",
       "      <th>alias</th>\n",
       "      <th>title</th>\n",
       "      <th>study_type</th>\n",
       "      <th>study_abstract</th>\n",
       "      <th>pubmed_id</th>\n",
       "    </tr>\n",
       "  </thead>\n",
       "  <tbody>\n",
       "    <tr>\n",
       "      <th>0</th>\n",
       "      <td>study_alias_4</td>\n",
       "      <td>study_title_1</td>\n",
       "      <td>Transcriptome Analysis</td>\n",
       "      <td>study_abstract_1</td>\n",
       "      <td>None</td>\n",
       "    </tr>\n",
       "    <tr>\n",
       "      <th>1</th>\n",
       "      <td>study_alias_5</td>\n",
       "      <td>study_title_2</td>\n",
       "      <td>RNASeq</td>\n",
       "      <td>study_abstract_2</td>\n",
       "      <td>pubmed_id_2</td>\n",
       "    </tr>\n",
       "  </tbody>\n",
       "</table>\n",
       "</div>"
      ],
      "text/plain": [
       "           alias          title              study_type    study_abstract  \\\n",
       "0  study_alias_4  study_title_1  Transcriptome Analysis  study_abstract_1   \n",
       "1  study_alias_5  study_title_2                  RNASeq  study_abstract_2   \n",
       "\n",
       "     pubmed_id  \n",
       "0         None  \n",
       "1  pubmed_id_2  "
      ]
     },
     "execution_count": 54,
     "metadata": {},
     "output_type": "execute_result"
    }
   ],
   "source": [
    "df_study"
   ]
  },
  {
   "cell_type": "code",
   "execution_count": null,
   "id": "308e5c21",
   "metadata": {},
   "outputs": [],
   "source": []
  }
 ],
 "metadata": {
  "kernelspec": {
   "display_name": "Python 3 (ipykernel)",
   "language": "python",
   "name": "python3"
  },
  "language_info": {
   "codemirror_mode": {
    "name": "ipython",
    "version": 3
   },
   "file_extension": ".py",
   "mimetype": "text/x-python",
   "name": "python",
   "nbconvert_exporter": "python",
   "pygments_lexer": "ipython3",
   "version": "3.9.5"
  }
 },
 "nbformat": 4,
 "nbformat_minor": 5
}
